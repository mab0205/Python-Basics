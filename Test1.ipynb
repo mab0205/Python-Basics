{
 "cells": [
  {
   "cell_type": "code",
   "execution_count": 1,
   "id": "8b0da745-e15f-4a9a-8614-036ef0844e45",
   "metadata": {},
   "outputs": [
    {
     "name": "stdout",
     "output_type": "stream",
     "text": [
      "Five is greater than two!\n"
     ]
    }
   ],
   "source": [
    "if 5 > 2:\n",
    "  print(\"Five is greater than two!\")"
   ]
  },
  {
   "cell_type": "code",
   "execution_count": 2,
   "id": "29d96f62-ccc0-4901-b303-9519745c2466",
   "metadata": {},
   "outputs": [
    {
     "name": "stdout",
     "output_type": "stream",
     "text": [
      "Hello, World!\n"
     ]
    }
   ],
   "source": [
    "#This is a comment.\n",
    "print(\"Hello, World!\")\n"
   ]
  },
  {
   "cell_type": "code",
   "execution_count": 3,
   "id": "31dbb638-5d19-4f9b-ba6d-d17c98407e69",
   "metadata": {},
   "outputs": [],
   "source": [
    "x = str(3)    # x will be '3'\n",
    "y = int(3)    # y will be 3\n",
    "z = float(3)  # z will be 3.0\n"
   ]
  },
  {
   "cell_type": "code",
   "execution_count": 6,
   "id": "05d3d304-a483-4cab-b48b-9b14f146b336",
   "metadata": {},
   "outputs": [
    {
     "name": "stdout",
     "output_type": "stream",
     "text": [
      "llo\n",
      "Hello\n"
     ]
    }
   ],
   "source": [
    "#Slicing\n",
    "b = \"Hello, World!\"\n",
    "print(b[2:5])\n",
    "print(b[:5])"
   ]
  },
  {
   "cell_type": "code",
   "execution_count": 7,
   "id": "512ab44e-a890-47ed-911c-e2e93ec8c27f",
   "metadata": {},
   "outputs": [
    {
     "name": "stdout",
     "output_type": "stream",
     "text": [
      "Jello, World!\n"
     ]
    }
   ],
   "source": [
    "a = \"Hello, World!\"\n",
    "print(a.replace(\"H\", \"J\"))"
   ]
  },
  {
   "cell_type": "code",
   "execution_count": 8,
   "id": "beb72028-d75d-4d77-b8d3-f3c8928e45dc",
   "metadata": {},
   "outputs": [
    {
     "name": "stdout",
     "output_type": "stream",
     "text": [
      "['Hello', ' World!']\n"
     ]
    }
   ],
   "source": [
    "a = \"Hello, World!\"\n",
    "print(a.split(\",\")) # returns ['Hello', ' World!']"
   ]
  },
  {
   "cell_type": "code",
   "execution_count": 15,
   "id": "b19cd7b8-ccc2-4e0c-ac1b-d7e89cfd9823",
   "metadata": {},
   "outputs": [
    {
     "name": "stdout",
     "output_type": "stream",
     "text": [
      "I want to pay 49.95 dollars for 3 pieces of item 567.\n"
     ]
    }
   ],
   "source": [
    "#combine strings and numbers\n",
    "quantity = 3\n",
    "itemno = 567\n",
    "price = 49.95\n",
    "myorder = \"I want to pay {2} dollars for {0} pieces of item {1}.\"\n",
    "print(myorder.format(quantity, itemno, price))"
   ]
  },
  {
   "cell_type": "code",
   "execution_count": 16,
   "id": "9bb6cf02-1de3-431e-9f7f-88f802c6cb14",
   "metadata": {},
   "outputs": [],
   "source": [
    "#There are four collection data types in the Python programming language:\n",
    "\n",
    "#1. List is a collection which is ordered and changeable. Allows duplicate members.\n",
    "#2. Tuple is a collection which is ordered and unchangeable. Allows duplicate members.\n",
    "#3. Set is a collection which is unordered, unchangeable*, and unindexed. No duplicate members.\n",
    "#4. Dictionary is a collection which is ordered** and changeable. No duplicate members."
   ]
  },
  {
   "cell_type": "code",
   "execution_count": 22,
   "id": "6af86e52-c28b-4fea-a125-136fdd20215f",
   "metadata": {},
   "outputs": [
    {
     "name": "stdout",
     "output_type": "stream",
     "text": [
      "['abc', 34, True, 40, 'male']\n",
      "<class 'list'>\n",
      "5\n",
      "[34, True, 40]\n"
     ]
    }
   ],
   "source": [
    "list1 = [\"abc\", 34, True, 40, \"male\"]\n",
    "print(list1)\n",
    "print(type(list1))\n",
    "print(len(list1))\n",
    "print(list1[1:4])"
   ]
  },
  {
   "cell_type": "code",
   "execution_count": 23,
   "id": "92d62c8b-20a8-4c99-84c1-13fe7c33234f",
   "metadata": {},
   "outputs": [
    {
     "name": "stdout",
     "output_type": "stream",
     "text": [
      "Yes\n"
     ]
    }
   ],
   "source": [
    "if \"male\" in list1:\n",
    "  print(\"Yes\")"
   ]
  },
  {
   "cell_type": "code",
   "execution_count": 26,
   "id": "1f7b5d41-bc95-43c3-8015-59af8c4dd3e9",
   "metadata": {},
   "outputs": [
    {
     "name": "stdout",
     "output_type": "stream",
     "text": [
      "['NO!', 34, 'quefuefs', 'quefuefs', 'quefuefs', True, 40, 'male']\n",
      "['NO!', 34, 'quefuefs', 'quefuefs', 'quefuefs', True, 40, 'male']\n",
      "['NO!', 34, 'quefuefs', 'quefuefs', 'quefuefs', True, 40, 'male', 'ultimaPosicion']\n"
     ]
    }
   ],
   "source": [
    "#To insert a new list item, without replacing any of the existing values\n",
    "list1.insert(2, \"quefuefs\")\n",
    "print(list1)\n",
    "#replace \n",
    "list1[0] = \"NO!\"\n",
    "print(list1)\n",
    "#To add an item to the end of the list\n",
    "list1.append(\"ultimaPosicion\")\n",
    "print(list1)"
   ]
  },
  {
   "cell_type": "code",
   "execution_count": 27,
   "id": "8cb74307-885e-4266-9b48-d3f5c2c3e1f2",
   "metadata": {},
   "outputs": [
    {
     "name": "stdout",
     "output_type": "stream",
     "text": [
      "['NO!', 34, 'quefuefs', 'quefuefs', 'quefuefs', True, 40, 'male', 'ultimaPosicion', 'mango', 'pineapple', 'papaya']\n"
     ]
    }
   ],
   "source": [
    "#juntar 2 listas\n",
    "tropical = [\"mango\", \"pineapple\", \"papaya\"]\n",
    "list1.extend(tropical)\n",
    "print(list1)"
   ]
  },
  {
   "cell_type": "code",
   "execution_count": 28,
   "id": "cc8fd9bc-a4fd-43bc-aa83-3980268ae593",
   "metadata": {},
   "outputs": [
    {
     "name": "stdout",
     "output_type": "stream",
     "text": [
      "NO!\n",
      "34\n",
      "quefuefs\n",
      "quefuefs\n",
      "quefuefs\n",
      "True\n",
      "40\n",
      "male\n",
      "ultimaPosicion\n",
      "mango\n",
      "pineapple\n",
      "papaya\n"
     ]
    }
   ],
   "source": [
    "for x in list1:\n",
    "  print(x)"
   ]
  },
  {
   "cell_type": "code",
   "execution_count": 31,
   "id": "a93afc0c-4d98-448c-abe6-701445bef5f7",
   "metadata": {},
   "outputs": [
    {
     "name": "stdout",
     "output_type": "stream",
     "text": [
      "NO!\n",
      "34\n",
      "quefuefs\n",
      "quefuefs\n",
      "quefuefs\n",
      "True\n",
      "40\n",
      "male\n",
      "ultimaPosicion\n",
      "mango\n",
      "pineapple\n",
      "papaya\n"
     ]
    }
   ],
   "source": [
    "i = 0\n",
    "while i < len(list1):\n",
    "  print(list1[i])\n",
    "  i = i + 1"
   ]
  },
  {
   "cell_type": "code",
   "execution_count": 35,
   "id": "18ed4865-2611-4255-add6-17579f92223b",
   "metadata": {},
   "outputs": [
    {
     "name": "stdout",
     "output_type": "stream",
     "text": [
      "NO!\n",
      "34\n",
      "quefuefs\n",
      "quefuefs\n",
      "quefuefs\n",
      "True\n",
      "40\n",
      "male\n",
      "ultimaPosicion\n",
      "mango\n",
      "pineapple\n",
      "papaya\n"
     ]
    },
    {
     "data": {
      "text/plain": [
       "[None, None, None, None, None, None, None, None, None, None, None, None]"
      ]
     },
     "execution_count": 35,
     "metadata": {},
     "output_type": "execute_result"
    }
   ],
   "source": [
    "#List Comprehension offers the shortest syntax for looping through lists:\n",
    "[print(y) for y in list1]"
   ]
  },
  {
   "cell_type": "code",
   "execution_count": 36,
   "id": "c295ba66-e8c7-47c9-b5b9-194f03d2a439",
   "metadata": {},
   "outputs": [
    {
     "name": "stdout",
     "output_type": "stream",
     "text": [
      "['apple', 'banana', 'mango']\n"
     ]
    }
   ],
   "source": [
    "fruits = [\"apple\", \"banana\", \"cherry\", \"kiwi\", \"mango\"]\n",
    "\n",
    "newlist = [x for x in fruits if \"a\" in x]\n",
    "\n",
    "print(newlist)"
   ]
  },
  {
   "cell_type": "code",
   "execution_count": 37,
   "id": "768c2583-aab1-4bfc-9bc2-8ef4276567d9",
   "metadata": {},
   "outputs": [
    {
     "name": "stdout",
     "output_type": "stream",
     "text": [
      "The youngest child is Linus\n"
     ]
    }
   ],
   "source": [
    "#If you do not know how many arguments that will be passed into your function, add a * before the parameter name in the function definition.\n",
    "def my_function(*kids):\n",
    "  print(\"The youngest child is \" + kids[2])\n",
    "\n",
    "my_function(\"Emil\", \"Tobias\", \"Linus\")"
   ]
  },
  {
   "cell_type": "code",
   "execution_count": 38,
   "id": "f841ebe5-fbe2-4bb0-b82a-8971b4ecfb8e",
   "metadata": {},
   "outputs": [
    {
     "name": "stdout",
     "output_type": "stream",
     "text": [
      "John\n",
      "36\n"
     ]
    }
   ],
   "source": [
    "# Classes e objetos\n",
    "class Person:\n",
    "  def __init__(self, name, age):\n",
    "    self.name = name\n",
    "    self.age = age\n",
    "\n",
    "p1 = Person(\"John\", 36)\n",
    "\n",
    "print(p1.name)\n",
    "print(p1.age)\n"
   ]
  },
  {
   "cell_type": "code",
   "execution_count": 43,
   "id": "a25dfdd6-3262-4039-80c2-19226433d0e6",
   "metadata": {},
   "outputs": [
    {
     "name": "stdout",
     "output_type": "stream",
     "text": [
      "Hello my name is John\n",
      " tengo: 36 anos\n"
     ]
    }
   ],
   "source": [
    "class Person:\n",
    "#self nombre del constructor \n",
    "  def __init__(self, name, age):\n",
    "    self.name = name\n",
    "    self.age = age\n",
    "\n",
    "  def myfunc(self):\n",
    "    print(\"Hello my name is \" + self.name) \n",
    "    \n",
    "  def Age(self): \n",
    "        impresion = \" tengo: {} anos\"\n",
    "        print(impresion.format(self.age))\n",
    "\n",
    "p1 = Person(\"John\", 36)\n",
    "p1.myfunc()\n",
    "p1.Age()"
   ]
  },
  {
   "cell_type": "code",
   "execution_count": 1,
   "id": "a5c5f6d9-6da3-41b3-ab22-559fa39bba93",
   "metadata": {},
   "outputs": [
    {
     "name": "stdout",
     "output_type": "stream",
     "text": [
      "Martin Avila\n",
      "Welcome Martin Avila to the class of 2022\n"
     ]
    }
   ],
   "source": [
    "from modu import Student\n",
    "\n",
    "obj1 = Student(\"Martin\", \"Avila\", 2022)\n",
    "obj1.printname()\n",
    "obj1.welcome()"
   ]
  },
  {
   "cell_type": "code",
   "execution_count": null,
   "id": "0644d1d1-8550-4e14-a5bd-7b9a2bf81601",
   "metadata": {},
   "outputs": [],
   "source": []
  },
  {
   "cell_type": "code",
   "execution_count": null,
   "id": "a6e200d7-3635-4bcc-bf82-5d00b16d7e94",
   "metadata": {},
   "outputs": [],
   "source": []
  }
 ],
 "metadata": {
  "kernelspec": {
   "display_name": "Python 3.10.6 64-bit (windows store)",
   "language": "python",
   "name": "python3"
  },
  "language_info": {
   "codemirror_mode": {
    "name": "ipython",
    "version": 3
   },
   "file_extension": ".py",
   "mimetype": "text/x-python",
   "name": "python",
   "nbconvert_exporter": "python",
   "pygments_lexer": "ipython3",
   "version": "3.10.6"
  },
  "vscode": {
   "interpreter": {
    "hash": "a83478b08aff42f6845beb537692bcdaf52cb9d83fb6dadbd292d42aa887aaf0"
   }
  }
 },
 "nbformat": 4,
 "nbformat_minor": 5
}
